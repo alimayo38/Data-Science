{
  "nbformat": 4,
  "nbformat_minor": 0,
  "metadata": {
    "colab": {
      "provenance": []
    },
    "kernelspec": {
      "name": "python3",
      "display_name": "Python 3"
    },
    "language_info": {
      "name": "python"
    }
  },
  "cells": [
    {
      "cell_type": "code",
      "execution_count": 13,
      "metadata": {
        "id": "epvwUUvmeuBv"
      },
      "outputs": [],
      "source": [
        "import requests\n",
        "from bs4 import BeautifulSoup\n",
        "\n",
        "def scrape_website(url, selector):\n",
        "    try:\n",
        "        response = requests.get(url)\n",
        "        response.raise_for_status()\n",
        "        soup = BeautifulSoup(response.text, 'html.parser')\n",
        "        data = soup.select(selector)\n",
        "        return [item.get_text(strip=True) for item in data]\n",
        "    except Exception as e:\n",
        "        print(f\"An error occurred: {e}\")\n",
        "        return []\n",
        "\n",
        "# URL and selectors for scraping\n",
        "urls_and_selectors = [\n",
        "    (\"https://www.timeanddate.com/on-this-day/december/31\", \".list--big li h3\"),\n",
        "    (\"https://www.britannica.com/on-this-day/December-31\", \".description.font-serif\"),\n",
        "]\n",
        "\n",
        "output_file = \"combined_data_file.txt\"\n",
        "\n",
        "with open(output_file, 'w', encoding='utf-8') as combined_file:\n",
        "    for url, selector in urls_and_selectors:\n",
        "        data = scrape_website(url, selector)\n",
        "        combined_file.write('\\n'.join(data) + '\\n\\n\\n')\n",
        "\n"
      ]
    }
  ]
}