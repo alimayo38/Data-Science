{
  "nbformat": 4,
  "nbformat_minor": 0,
  "metadata": {
    "colab": {
      "provenance": []
    },
    "kernelspec": {
      "name": "python3",
      "display_name": "Python 3"
    },
    "language_info": {
      "name": "python"
    }
  },
  "cells": [
    {
      "cell_type": "code",
      "execution_count": 1,
      "metadata": {
        "id": "ACcTwcs5JcxU"
      },
      "outputs": [],
      "source": [
        "# 9/18/2023\n",
        "# CSC461 – Assignment2 – Regular Expressions\n",
        "# ALI SHAKEEL\n",
        "# FA21-BSE-099\n",
        "# The task involves Practice of regular expressions\n",
        "import re\n",
        "\n"
      ]
    },
    {
      "cell_type": "code",
      "source": [
        "with open('/content/sample_data/example-text.txt', 'r') as file:\n",
        "    text = file.read()"
      ],
      "metadata": {
        "id": "s-0VCdJrLKfA"
      },
      "execution_count": 4,
      "outputs": []
    },
    {
      "cell_type": "code",
      "source": [
        "\n",
        "# 1. Extract list of all words.\n",
        "words = re.findall(r'\\b\\w+\\b', text)\n",
        "\n",
        "# 2. Extract list of all words starting with a capital letter.\n",
        "capital_words = re.findall(r'\\b[A-Z][a-z]*\\b', text)\n",
        "\n",
        "# 3. Extract list of all words of length 5.\n",
        "five_letter_words = re.findall(r'\\b\\w{5}\\b', text)\n",
        "\n",
        "# 4. Extract list of all words inside double quotes.\n",
        "quoted_words = re.findall(r'\"(.*?)\"', text)\n",
        "\n",
        "# 5. Extract list of all vowels.\n",
        "vowels = re.findall(r'[aeiouAEIOU]', text)\n",
        "\n",
        "# 6. Extract list of 3 letter words ending with letter 'e'.\n",
        "three_letter_e_words = re.findall(r'\\b\\w{3}e\\b', text)\n",
        "\n",
        "# 7. Extract list of all words starting and ending with letter 'b'.\n",
        "b_words = re.findall(r'\\b[bB]\\w*[bB]\\b', text)\n",
        "\n",
        "# 8. Remove all the punctuation marks from the text.\n",
        "text_without_punctuation = re.sub(r'[^\\w\\s]', '', text)\n",
        "\n",
        "# 9. Replace all words ending 'n't' to their full form 'not'.\n",
        "text_replaced = re.sub(r'\\b\\w+n\\'t\\b', lambda x: x.group()[:-3] + ' not', text_without_punctuation)\n",
        "\n",
        "# 10. Replace all the new lines with a single space\n",
        "text_final = re.sub(r'\\n', ' ', text_replaced)\n",
        "\n",
        "# Print the results\n",
        "print(\"1. All words:\", words)\n",
        "print(\"\\n2. Words starting with a capital letter:\", capital_words)\n",
        "print(\"\\n3. Words of length 5:\", five_letter_words)\n",
        "print(\"\\n4. Words inside double quotes:\", quoted_words)\n",
        "print(\"\\n5. All vowels:\", vowels)\n",
        "print(\"\\n6. 3-letter words ending with 'e':\", three_letter_e_words)\n",
        "print(\"\\n7. Words starting and ending with 'b':\", b_words)\n",
        "print(\"\\n8. Text without punctuation:\", text_without_punctuation)\n",
        "print(\"\\n9. Words with 'n't' replaced by 'not':\", text_replaced)\n",
        "print(\"\\n10. Text with new lines replaced by spaces:\", text_final)"
      ],
      "metadata": {
        "id": "akMmW4SDLgfZ"
      },
      "execution_count": null,
      "outputs": []
    },
    {
      "cell_type": "code",
      "source": [
        "words = re.findall(r'\\b\\w+\\b', text)\n",
        "print(\"1. All words:\", words)"
      ],
      "metadata": {
        "colab": {
          "base_uri": "https://localhost:8080/"
        },
        "id": "rUoJQKYILlNu",
        "outputId": "de717fa5-8bc2-4618-db6f-5a897833ab32"
      },
      "execution_count": 5,
      "outputs": [
        {
          "output_type": "stream",
          "name": "stdout",
          "text": [
            "1. All words: ['The', 'outlook', 'wasn', 't', 'brilliant', 'for', 'the', 'Mudville', 'nine', 'that', 'day', 'The', 'score', 'stood', 'four', 'to', 'two', 'with', 'but', 'one', 'inning', 'more', 'to', 'play', 'And', 'then', 'when', 'Cooney', 'died', 'at', 'first', 'and', 'Barrows', 'did', 'the', 'same', 'A', 'pall', 'like', 'silence', 'fell', 'upon', 'the', 'patrons', 'of', 'the', 'game', 'A', 'straggling', 'few', 'got', 'up', 'to', 'go', 'in', 'deep', 'despair', 'The', 'rest', 'Clung', 'to', 'that', 'hope', 'which', 'springs', 'eternal', 'in', 'the', 'human', 'breast', 'They', 'thought', 'If', 'only', 'Casey', 'could', 'but', 'get', 'a', 'whack', 'at', 'that', 'We', 'd', 'put', 'up', 'even', 'money', 'now', 'with', 'Casey', 'at', 'the', 'bat', 'But', 'Flynn', 'preceded', 'Casey', 'as', 'did', 'also', 'Jimmy', 'Blake', 'And', 'the', 'former', 'was', 'a', 'lulu', 'while', 'the', 'latter', 'was', 'a', 'cake', 'So', 'upon', 'that', 'stricken', 'multitude', 'grim', 'melancholy', 'sat', 'For', 'there', 'seemed', 'but', 'little', 'chance', 'of', 'Casey', 'getting', 'to', 'the', 'bat', 'But', 'Flynn', 'let', 'drive', 'a', 'single', 'to', 'the', 'wonderment', 'of', 'all', 'And', 'Blake', 'the', 'much', 'despised', 'tore', 'the', 'cover', 'off', 'the', 'ball', 'And', 'when', 'the', 'dust', 'had', 'lifted', 'and', 'men', 'saw', 'what', 'had', 'occurred', 'There', 'was', 'Jimmy', 'safe', 'at', 'second', 'and', 'Flynn', 'a', 'hugging', 'third', 'Then', 'from', 'five', 'thousand', 'throats', 'and', 'more', 'there', 'rose', 'a', 'lusty', 'yell', 'It', 'rumbled', 'through', 'the', 'valley', 'it', 'rattled', 'in', 'the', 'dell', 'It', 'pounded', 'on', 'the', 'mountain', 'and', 'recoiled', 'upon', 'the', 'flat', 'For', 'Casey', 'mighty', 'Casey', 'was', 'advancing', 'to', 'the', 'bat', 'There', 'was', 'ease', 'in', 'Casey', 's', 'manner', 'as', 'he', 'stepped', 'into', 'his', 'place', 'There', 'was', 'pride', 'in', 'Casey', 's', 'bearing', 'and', 'a', 'smile', 'lit', 'Casey', 's', 'face', 'And', 'when', 'responding', 'to', 'the', 'cheers', 'he', 'lightly', 'doffed', 'his', 'hat', 'No', 'stranger', 'in', 'the', 'crowd', 'could', 'doubt', 'twas', 'Casey', 'at', 'the', 'bat', 'Ten', 'thousand', 'eyes', 'were', 'on', 'him', 'as', 'he', 'rubbed', 'his', 'hands', 'with', 'dirt', 'Five', 'thousand', 'tongues', 'applauded', 'when', 'he', 'wiped', 'them', 'on', 'his', 'shirt', 'Then', 'while', 'the', 'writhing', 'pitcher', 'ground', 'the', 'ball', 'into', 'his', 'hip', 'Defiance', 'flashed', 'in', 'Casey', 's', 'eye', 'a', 'sneer', 'curled', 'Casey', 's', 'lip', 'And', 'now', 'the', 'leather', 'covered', 'sphere', 'came', 'hurtling', 'through', 'the', 'air', 'And', 'Casey', 'stood', 'a', 'watching', 'it', 'in', 'haughty', 'grandeur', 'there', 'Close', 'by', 'the', 'sturdy', 'batsman', 'the', 'ball', 'unheeded', 'sped', 'That', 'ain', 't', 'my', 'style', 'said', 'Casey', 'Strike', 'one', 'the', 'umpire', 'said', 'From', 'the', 'benches', 'black', 'with', 'people', 'there', 'went', 'up', 'a', 'muffled', 'roar', 'Like', 'the', 'beating', 'of', 'the', 'storm', 'waves', 'on', 'a', 'stern', 'and', 'distant', 'shore', 'Kill', 'him', 'Kill', 'the', 'umpire', 'shouted', 'some', 'one', 'on', 'the', 'stand', 'And', 'it', 's', 'likely', 'they', 'd', 'have', 'killed', 'him', 'had', 'not', 'Casey', 'raised', 'his', 'hand', 'With', 'a', 'smile', 'of', 'Christian', 'charity', 'great', 'Casey', 's', 'visage', 'shone', 'He', 'stilled', 'the', 'rising', 'tumult', 'he', 'bade', 'the', 'game', 'go', 'on', 'He', 'signaled', 'to', 'the', 'pitcher', 'and', 'once', 'more', 'the', 'dun', 'sphere', 'flew', 'But', 'Casey', 'still', 'ignored', 'it', 'and', 'the', 'umpire', 'said', 'Strike', 'two', 'Fraud', 'cried', 'the', 'maddened', 'thousands', 'and', 'echo', 'answered', 'Fraud', 'But', 'one', 'scornful', 'look', 'from', 'Casey', 'and', 'the', 'audience', 'was', 'awed', 'They', 'saw', 'his', 'face', 'grow', 'stern', 'and', 'cold', 'they', 'saw', 'his', 'muscles', 'strain', 'And', 'they', 'knew', 'that', 'Casey', 'wouldn', 't', 'let', 'that', 'ball', 'go', 'by', 'again', 'The', 'sneer', 'has', 'fled', 'from', 'Casey', 's', 'lip', 'his', 'teeth', 'are', 'clenched', 'in', 'hate', 'He', 'pounds', 'with', 'cruel', 'violence', 'his', 'bat', 'upon', 'the', 'plate', 'And', 'now', 'the', 'pitcher', 'holds', 'the', 'ball', 'and', 'now', 'he', 'lets', 'it', 'go', 'And', 'now', 'the', 'air', 'is', 'shattered', 'by', 'the', 'force', 'of', 'Casey', 's', 'blow', 'Oh', 'somewhere', 'in', 'this', 'favored', 'land', 'the', 'sun', 'is', 'shining', 'bright', 'The', 'band', 'is', 'playing', 'somewhere', 'and', 'somewhere', 'hearts', 'are', 'light', 'And', 'somewhere', 'men', 'are', 'laughing', 'and', 'little', 'children', 'shout', 'But', 'there', 'is', 'no', 'joy', 'in', 'Mudville', 'great', 'Casey', 'has', 'struck', 'out']\n"
          ]
        }
      ]
    },
    {
      "cell_type": "code",
      "source": [
        "capital_words = re.findall(r'\\b[A-Z][a-z]*\\b', text)\n",
        "print(\"2. Words starting with a capital letter:\", capital_words)"
      ],
      "metadata": {
        "colab": {
          "base_uri": "https://localhost:8080/"
        },
        "id": "vZ7YsNElL63-",
        "outputId": "5ebc77f7-45ba-4e10-fa3d-fd67f598f142"
      },
      "execution_count": 6,
      "outputs": [
        {
          "output_type": "stream",
          "name": "stdout",
          "text": [
            "2. Words starting with a capital letter: ['The', 'Mudville', 'The', 'And', 'Cooney', 'Barrows', 'A', 'A', 'The', 'Clung', 'They', 'If', 'Casey', 'We', 'Casey', 'But', 'Flynn', 'Casey', 'Jimmy', 'Blake', 'And', 'So', 'For', 'Casey', 'But', 'Flynn', 'And', 'Blake', 'And', 'There', 'Jimmy', 'Flynn', 'Then', 'It', 'It', 'For', 'Casey', 'Casey', 'There', 'Casey', 'There', 'Casey', 'Casey', 'And', 'No', 'Casey', 'Ten', 'Five', 'Then', 'Defiance', 'Casey', 'Casey', 'And', 'And', 'Casey', 'Close', 'That', 'Casey', 'Strike', 'From', 'Like', 'Kill', 'Kill', 'And', 'Casey', 'With', 'Christian', 'Casey', 'He', 'He', 'But', 'Casey', 'Strike', 'Fraud', 'Fraud', 'But', 'Casey', 'They', 'And', 'Casey', 'The', 'Casey', 'He', 'And', 'And', 'Casey', 'Oh', 'The', 'And', 'But', 'Mudville', 'Casey']\n"
          ]
        }
      ]
    },
    {
      "cell_type": "code",
      "source": [
        "five_letter_words = re.findall(r'\\b\\w{5}\\b', text)\n",
        "print(\"3. Words of length 5:\", five_letter_words)"
      ],
      "metadata": {
        "colab": {
          "base_uri": "https://localhost:8080/"
        },
        "id": "E9jts0OtMFDd",
        "outputId": "284d7632-1846-4f24-84ed-da53c7afe7e8"
      },
      "execution_count": 9,
      "outputs": [
        {
          "output_type": "stream",
          "name": "stdout",
          "text": [
            "3. Words of length 5: ['score', 'stood', 'first', 'Clung', 'which', 'human', 'Casey', 'could', 'whack', 'money', 'Casey', 'Flynn', 'Casey', 'Jimmy', 'Blake', 'while', 'there', 'Casey', 'Flynn', 'drive', 'Blake', 'cover', 'There', 'Jimmy', 'Flynn', 'third', 'there', 'lusty', 'Casey', 'Casey', 'There', 'Casey', 'place', 'There', 'pride', 'Casey', 'smile', 'Casey', 'crowd', 'could', 'doubt', 'Casey', 'hands', 'wiped', 'shirt', 'while', 'Casey', 'sneer', 'Casey', 'Casey', 'stood', 'there', 'Close', 'style', 'Casey', 'black', 'there', 'storm', 'waves', 'stern', 'shore', 'stand', 'Casey', 'smile', 'great', 'Casey', 'shone', 'Casey', 'still', 'Fraud', 'cried', 'Fraud', 'Casey', 'stern', 'Casey', 'again', 'sneer', 'Casey', 'teeth', 'cruel', 'plate', 'holds', 'force', 'Casey', 'light', 'shout', 'there', 'great', 'Casey']\n"
          ]
        }
      ]
    },
    {
      "cell_type": "code",
      "source": [
        "quoted_words = re.findall(r'\"(.*?)\"', text)\n",
        "print(\"4. Words inside double quotes:\", quoted_words)"
      ],
      "metadata": {
        "colab": {
          "base_uri": "https://localhost:8080/"
        },
        "id": "aKqs5dbPMOOi",
        "outputId": "8d94b5c6-9310-45ea-fe89-95e39bd809e2"
      },
      "execution_count": 10,
      "outputs": [
        {
          "output_type": "stream",
          "name": "stdout",
          "text": [
            "4. Words inside double quotes: [\"That ain't my style,\", 'Strike one!', 'Kill him! Kill the umpire!', 'Strike two!', 'Fraud!', 'Fraud!']\n"
          ]
        }
      ]
    },
    {
      "cell_type": "code",
      "source": [
        "vowels = re.findall(r'[aeiouAEIOU]', text)\n",
        "print(\"\\n5. All vowels:\", vowels)"
      ],
      "metadata": {
        "colab": {
          "base_uri": "https://localhost:8080/"
        },
        "id": "lRyON6e4MVZE",
        "outputId": "480bae15-2b9b-4b08-ad7f-77204ad0e4c5"
      },
      "execution_count": 11,
      "outputs": [
        {
          "output_type": "stream",
          "name": "stdout",
          "text": [
            "\n",
            "5. All vowels: ['e', 'o', 'u', 'o', 'o', 'a', 'i', 'i', 'a', 'o', 'e', 'u', 'i', 'e', 'i', 'e', 'a', 'a', 'e', 'o', 'e', 'o', 'o', 'o', 'u', 'o', 'o', 'i', 'u', 'o', 'e', 'i', 'i', 'o', 'e', 'o', 'a', 'A', 'e', 'e', 'o', 'o', 'e', 'i', 'e', 'a', 'i', 'a', 'a', 'o', 'i', 'e', 'a', 'e', 'A', 'a', 'i', 'e', 'i', 'e', 'e', 'e', 'u', 'o', 'e', 'a', 'o', 'o', 'e', 'a', 'e', 'A', 'a', 'i', 'e', 'o', 'u', 'o', 'o', 'i', 'e', 'e', 'e', 'a', 'i', 'e', 'e', 'u', 'o', 'a', 'o', 'e', 'i', 'i', 'e', 'e', 'a', 'i', 'e', 'u', 'a', 'e', 'a', 'e', 'o', 'u', 'I', 'o', 'a', 'e', 'o', 'u', 'u', 'e', 'a', 'a', 'a', 'a', 'e', 'u', 'u', 'e', 'e', 'o', 'e', 'o', 'i', 'a', 'e', 'a', 'e', 'a', 'u', 'e', 'e', 'e', 'a', 'e', 'a', 'i', 'a', 'o', 'i', 'a', 'e', 'A', 'e', 'o', 'e', 'a', 'a', 'u', 'u', 'i', 'e', 'e', 'a', 'e', 'a', 'a', 'a', 'e', 'o', 'u', 'o', 'a', 'i', 'e', 'u', 'i', 'u', 'e', 'i', 'e', 'a', 'o', 'a', 'o', 'e', 'e', 'e', 'e', 'e', 'u', 'i', 'e', 'a', 'e', 'o', 'a', 'e', 'e', 'i', 'o', 'e', 'a', 'u', 'e', 'i', 'e', 'a', 'i', 'e', 'o', 'e', 'o', 'e', 'e', 'o', 'a', 'A', 'a', 'e', 'e', 'u', 'e', 'i', 'e', 'o', 'e', 'e', 'o', 'e', 'o', 'e', 'a', 'A', 'e', 'e', 'u', 'a', 'i', 'e', 'a', 'e', 'a', 'a', 'a', 'o', 'u', 'e', 'e', 'e', 'a', 'i', 'a', 'e', 'a', 'e', 'o', 'a', 'a', 'u', 'i', 'i', 'e', 'o', 'i', 'e', 'o', 'u', 'a', 'o', 'a', 'a', 'o', 'e', 'e', 'e', 'o', 'e', 'a', 'u', 'e', 'I', 'u', 'e', 'o', 'u', 'e', 'a', 'e', 'i', 'a', 'e', 'i', 'e', 'e', 'I', 'o', 'u', 'e', 'o', 'e', 'o', 'u', 'a', 'i', 'a', 'e', 'o', 'i', 'e', 'u', 'o', 'e', 'a', 'o', 'a', 'e', 'i', 'a', 'e', 'a', 'a', 'a', 'i', 'o', 'e', 'a', 'e', 'e', 'a', 'e', 'a', 'e', 'i', 'a', 'e', 'a', 'e', 'a', 'e', 'e', 'e', 'i', 'o', 'i', 'a', 'e', 'e', 'e', 'a', 'i', 'e', 'i', 'a', 'e', 'e', 'a', 'i', 'a', 'a', 'i', 'e', 'i', 'a', 'e', 'a', 'e', 'A', 'e', 'e', 'o', 'i', 'o', 'e', 'e', 'e', 'e', 'i', 'o', 'e', 'i', 'a', 'o', 'a', 'e', 'i', 'e', 'o', 'o', 'u', 'o', 'u', 'a', 'a', 'e', 'a', 'e', 'a', 'e', 'o', 'u', 'a', 'e', 'e', 'e', 'e', 'o', 'i', 'a', 'e', 'u', 'e', 'i', 'a', 'i', 'i', 'i', 'e', 'o', 'u', 'a', 'o', 'u', 'e', 'a', 'a', 'u', 'e', 'e', 'e', 'i', 'e', 'e', 'o', 'i', 'i', 'e', 'i', 'e', 'e', 'i', 'i', 'i', 'e', 'o', 'u', 'e', 'a', 'i', 'o', 'i', 'i', 'e', 'i', 'a', 'e', 'a', 'e', 'i', 'a', 'e', 'e', 'e', 'a', 'e', 'e', 'u', 'e', 'a', 'e', 'i', 'A', 'o', 'e', 'e', 'a', 'e', 'o', 'e', 'e', 'e', 'e', 'a', 'e', 'u', 'i', 'o', 'u', 'e', 'a', 'i', 'A', 'a', 'e', 'o', 'o', 'a', 'a', 'i', 'i', 'i', 'a', 'u', 'a', 'e', 'u', 'e', 'e', 'o', 'e', 'e', 'u', 'a', 'a', 'e', 'a', 'u', 'e', 'e', 'e', 'e', 'a', 'a', 'i', 'e', 'a', 'i', 'a', 'e', 'i', 'e', 'o', 'e', 'e', 'u', 'i', 'e', 'a', 'i', 'o', 'e', 'e', 'e', 'a', 'i', 'e', 'o', 'e', 'e', 'e', 'e', 'u', 'a', 'u', 'e', 'o', 'a', 'i', 'e', 'e', 'e', 'a', 'i', 'o', 'e', 'o', 'a', 'e', 'o', 'a', 'e', 'a', 'i', 'a', 'o', 'e', 'i', 'i', 'i', 'e', 'u', 'i', 'e', 'o', 'u', 'e', 'o', 'e', 'o', 'e', 'o', 'e', 'a', 'A', 'i', 'i', 'e', 'e', 'a', 'e', 'i', 'e', 'i', 'a', 'o', 'a', 'e', 'a', 'i', 'e', 'i', 'a', 'i', 'a', 'i', 'e', 'o', 'i', 'i', 'a', 'a', 'i', 'e', 'a', 'a', 'e', 'i', 'a', 'e', 'o', 'e', 'e', 'i', 'e', 'e', 'i', 'i', 'u', 'u', 'e', 'a', 'e', 'e', 'a', 'e', 'o', 'o', 'e', 'i', 'a', 'e', 'o', 'e', 'i', 'e', 'a', 'o', 'e', 'o', 'e', 'e', 'u', 'e', 'e', 'e', 'u', 'a', 'e', 'i', 'i', 'o', 'e', 'i', 'a', 'e', 'u', 'i', 'e', 'a', 'i', 'i', 'e', 'o', 'a', 'u', 'i', 'e', 'e', 'a', 'e', 'e', 'o', 'u', 'a', 'a', 'e', 'o', 'a', 'e', 'e', 'a', 'u', 'u', 'o', 'e', 'o', 'u', 'o', 'o', 'o', 'a', 'e', 'a', 'e', 'a', 'u', 'i', 'e', 'e', 'a', 'a', 'e', 'e', 'a', 'i', 'a', 'e', 'o', 'e', 'a', 'o', 'e', 'a', 'i', 'u', 'e', 'a', 'i', 'A', 'e', 'e', 'a', 'a', 'e', 'o', 'u', 'e', 'a', 'a', 'o', 'a', 'a', 'i', 'e', 'e', 'e', 'a', 'e', 'o', 'a', 'e', 'i', 'i', 'e', 'e', 'a', 'e', 'e', 'e', 'i', 'a', 'e', 'e', 'o', 'u', 'i', 'u', 'e', 'i', 'o', 'e', 'e', 'i', 'a', 'u', 'o', 'e', 'a', 'e', 'A', 'o', 'e', 'i', 'e', 'o', 'e', 'a', 'a', 'o', 'e', 'e', 'i', 'o', 'A', 'o', 'e', 'a', 'i', 'i', 'a', 'e', 'e', 'e', 'o', 'e', 'o', 'a', 'e', 'o', 'O', 'o', 'e', 'e', 'e', 'i', 'i', 'a', 'o', 'e', 'a', 'e', 'u', 'i', 'i', 'i', 'i', 'e', 'a', 'i', 'a', 'i', 'o', 'e', 'e', 'e', 'a', 'o', 'e', 'e', 'e', 'e', 'a', 'a', 'e', 'i', 'A', 'o', 'e', 'e', 'e', 'e', 'a', 'e', 'a', 'u', 'i', 'a', 'i', 'e', 'i', 'e', 'o', 'u', 'u', 'e', 'e', 'i', 'o', 'o', 'i', 'u', 'i', 'e', 'e', 'a', 'a', 'e', 'a', 'u', 'o', 'u']\n"
          ]
        }
      ]
    },
    {
      "cell_type": "code",
      "source": [
        "three_letter_e_words = re.findall(r'\\b\\w{3}e\\b', text)\n",
        "print(\"\\n6. 3-letter words ending with 'e':\", three_letter_e_words)\n"
      ],
      "metadata": {
        "colab": {
          "base_uri": "https://localhost:8080/"
        },
        "id": "uIbgpaJIMicb",
        "outputId": "559b7253-dafd-4aaa-8ede-76cc83625fd9"
      },
      "execution_count": 12,
      "outputs": [
        {
          "output_type": "stream",
          "name": "stdout",
          "text": [
            "\n",
            "6. 3-letter words ending with 'e': ['nine', 'more', 'same', 'like', 'game', 'hope', 'cake', 'tore', 'safe', 'five', 'more', 'rose', 'ease', 'face', 'were', 'Five', 'came', 'Like', 'some', 'have', 'bade', 'game', 'once', 'more', 'face', 'hate']\n"
          ]
        }
      ]
    },
    {
      "cell_type": "code",
      "source": [
        "b_words = re.findall(r'\\b[bB]\\w*[bB]\\b', text)\n",
        "print(\"\\n7. Words starting and ending with 'b':\", b_words)"
      ],
      "metadata": {
        "colab": {
          "base_uri": "https://localhost:8080/"
        },
        "id": "Uo9xVGqSM0Mi",
        "outputId": "9002e18d-4683-43f5-8b63-4da0de05c98e"
      },
      "execution_count": 13,
      "outputs": [
        {
          "output_type": "stream",
          "name": "stdout",
          "text": [
            "\n",
            "7. Words starting and ending with 'b': []\n"
          ]
        }
      ]
    },
    {
      "cell_type": "code",
      "source": [
        "text_without_punctuation = re.sub(r'[^\\w\\s]', '', text)\n",
        "print(\"\\n8. Text without punctuation:\", text_without_punctuation)"
      ],
      "metadata": {
        "colab": {
          "base_uri": "https://localhost:8080/"
        },
        "id": "_Zm1phouM6fy",
        "outputId": "c3f1920b-3043-43e1-d41a-c34ebe3f15ef"
      },
      "execution_count": 14,
      "outputs": [
        {
          "output_type": "stream",
          "name": "stdout",
          "text": [
            "\n",
            "8. Text without punctuation: The outlook wasnt brilliant for the Mudville nine that day \n",
            "The score stood four to two with but one inning more to play\n",
            "And then when Cooney died at first and Barrows did the same\n",
            "A palllike silence fell upon the patrons of the game \n",
            "\n",
            "A straggling few got up to go in deep despair The rest\n",
            "Clung to that hope which springs eternal in the human breast\n",
            "They thought If only Casey could but get a whack at that\n",
            "Wed put up even money now with Casey at the bat \n",
            "\n",
            "But Flynn preceded Casey as did also Jimmy Blake\n",
            "And the former was a lulu while the latter was a cake\n",
            "So upon that stricken multitude grim melancholy sat\n",
            "For there seemed but little chance of Casey getting to the bat\n",
            "\n",
            "But Flynn let drive a single to the wonderment of all\n",
            "And Blake the much despised tore the cover off the ball\n",
            "And when the dust had lifted and men saw what had occurred\n",
            "There was Jimmy safe at second and Flynn ahugging third \n",
            "\n",
            "Then from five thousand throats and more there rose a lusty yell\n",
            "It rumbled through the valley it rattled in the dell\n",
            "It pounded on the mountain and recoiled upon the flat\n",
            "For Casey mighty Casey was advancing to the bat \n",
            "\n",
            "There was ease in Caseys manner as he stepped into his place\n",
            "There was pride in Caseys bearing and a smile lit Caseys face\n",
            "And when responding to the cheers he lightly doffed his hat\n",
            "No stranger in the crowd could doubt twas Casey at the bat \n",
            "\n",
            "Ten thousand eyes were on him as he rubbed his hands with dirt\n",
            "Five thousand tongues applauded when he wiped them on his shirt\n",
            "Then while the writhing pitcher ground the ball into his hip\n",
            "Defiance flashed in Caseys eye a sneer curled Caseys lip \n",
            "\n",
            "And now the leathercovered sphere came hurtling through the air\n",
            "And Casey stood awatching it in haughty grandeur there\n",
            "Close by the sturdy batsman the ball unheeded sped\n",
            "That aint my style said Casey Strike one the umpire said \n",
            "\n",
            "From the benches black with people there went up a muffled roar\n",
            "Like the beating of the stormwaves on a stern and distant shore\n",
            "Kill him Kill the umpire shouted some one on the stand\n",
            "And its likely theyd have killed him had not Casey raised his hand \n",
            "\n",
            "With a smile of Christian charity great Caseys visage shone\n",
            "He stilled the rising tumult he bade the game go on\n",
            "He signaled to the pitcher and once more the dun sphere flew\n",
            "But Casey still ignored it and the umpire said Strike two \n",
            "\n",
            "Fraud cried the maddened thousands and echo answered Fraud\n",
            "But one scornful look from Casey and the audience was awed\n",
            "They saw his face grow stern and cold they saw his muscles strain\n",
            "And they knew that Casey wouldnt let that ball go by again \n",
            "\n",
            "The sneer has fled from Caseys lip his teeth are clenched in hate\n",
            "He pounds with cruel violence his bat upon the plate\n",
            "And now the pitcher holds the ball and now he lets it go\n",
            "And now the air is shattered by the force of Caseys blow \n",
            "\n",
            "Oh somewhere in this favored land the sun is shining bright\n",
            "The band is playing somewhere and somewhere hearts are light\n",
            "And somewhere men are laughing and little children shout\n",
            "But there is no joy in Mudvillegreat Casey has struck out\n",
            "\n"
          ]
        }
      ]
    },
    {
      "cell_type": "code",
      "source": [
        "text_replaced = re.sub(r'\\b\\w+n\\'t\\b', lambda x: x.group()[:-3] + ' not', text_without_punctuation)\n",
        "print(\"\\n9. Words with 'n't' replaced by 'not':\", text_replaced)"
      ],
      "metadata": {
        "colab": {
          "base_uri": "https://localhost:8080/"
        },
        "id": "FDoWemQiNCPK",
        "outputId": "1de593e5-ae2e-485d-97af-a3f12dfb3e99"
      },
      "execution_count": 15,
      "outputs": [
        {
          "output_type": "stream",
          "name": "stdout",
          "text": [
            "\n",
            "9. Words with 'n't' replaced by 'not': The outlook wasnt brilliant for the Mudville nine that day \n",
            "The score stood four to two with but one inning more to play\n",
            "And then when Cooney died at first and Barrows did the same\n",
            "A palllike silence fell upon the patrons of the game \n",
            "\n",
            "A straggling few got up to go in deep despair The rest\n",
            "Clung to that hope which springs eternal in the human breast\n",
            "They thought If only Casey could but get a whack at that\n",
            "Wed put up even money now with Casey at the bat \n",
            "\n",
            "But Flynn preceded Casey as did also Jimmy Blake\n",
            "And the former was a lulu while the latter was a cake\n",
            "So upon that stricken multitude grim melancholy sat\n",
            "For there seemed but little chance of Casey getting to the bat\n",
            "\n",
            "But Flynn let drive a single to the wonderment of all\n",
            "And Blake the much despised tore the cover off the ball\n",
            "And when the dust had lifted and men saw what had occurred\n",
            "There was Jimmy safe at second and Flynn ahugging third \n",
            "\n",
            "Then from five thousand throats and more there rose a lusty yell\n",
            "It rumbled through the valley it rattled in the dell\n",
            "It pounded on the mountain and recoiled upon the flat\n",
            "For Casey mighty Casey was advancing to the bat \n",
            "\n",
            "There was ease in Caseys manner as he stepped into his place\n",
            "There was pride in Caseys bearing and a smile lit Caseys face\n",
            "And when responding to the cheers he lightly doffed his hat\n",
            "No stranger in the crowd could doubt twas Casey at the bat \n",
            "\n",
            "Ten thousand eyes were on him as he rubbed his hands with dirt\n",
            "Five thousand tongues applauded when he wiped them on his shirt\n",
            "Then while the writhing pitcher ground the ball into his hip\n",
            "Defiance flashed in Caseys eye a sneer curled Caseys lip \n",
            "\n",
            "And now the leathercovered sphere came hurtling through the air\n",
            "And Casey stood awatching it in haughty grandeur there\n",
            "Close by the sturdy batsman the ball unheeded sped\n",
            "That aint my style said Casey Strike one the umpire said \n",
            "\n",
            "From the benches black with people there went up a muffled roar\n",
            "Like the beating of the stormwaves on a stern and distant shore\n",
            "Kill him Kill the umpire shouted some one on the stand\n",
            "And its likely theyd have killed him had not Casey raised his hand \n",
            "\n",
            "With a smile of Christian charity great Caseys visage shone\n",
            "He stilled the rising tumult he bade the game go on\n",
            "He signaled to the pitcher and once more the dun sphere flew\n",
            "But Casey still ignored it and the umpire said Strike two \n",
            "\n",
            "Fraud cried the maddened thousands and echo answered Fraud\n",
            "But one scornful look from Casey and the audience was awed\n",
            "They saw his face grow stern and cold they saw his muscles strain\n",
            "And they knew that Casey wouldnt let that ball go by again \n",
            "\n",
            "The sneer has fled from Caseys lip his teeth are clenched in hate\n",
            "He pounds with cruel violence his bat upon the plate\n",
            "And now the pitcher holds the ball and now he lets it go\n",
            "And now the air is shattered by the force of Caseys blow \n",
            "\n",
            "Oh somewhere in this favored land the sun is shining bright\n",
            "The band is playing somewhere and somewhere hearts are light\n",
            "And somewhere men are laughing and little children shout\n",
            "But there is no joy in Mudvillegreat Casey has struck out\n",
            "\n"
          ]
        }
      ]
    },
    {
      "cell_type": "code",
      "source": [
        "text_final = re.sub(r'\\n', ' ', text_replaced)\n",
        "print(\"\\n10. Text with new lines replaced by spaces:\", text_final)"
      ],
      "metadata": {
        "colab": {
          "base_uri": "https://localhost:8080/"
        },
        "id": "2qFfLYJqNQ6y",
        "outputId": "4d5bb7b4-5532-4d0e-f8b8-b0b5ed1e66d9"
      },
      "execution_count": 16,
      "outputs": [
        {
          "output_type": "stream",
          "name": "stdout",
          "text": [
            "\n",
            "10. Text with new lines replaced by spaces: The outlook wasnt brilliant for the Mudville nine that day  The score stood four to two with but one inning more to play And then when Cooney died at first and Barrows did the same A palllike silence fell upon the patrons of the game   A straggling few got up to go in deep despair The rest Clung to that hope which springs eternal in the human breast They thought If only Casey could but get a whack at that Wed put up even money now with Casey at the bat   But Flynn preceded Casey as did also Jimmy Blake And the former was a lulu while the latter was a cake So upon that stricken multitude grim melancholy sat For there seemed but little chance of Casey getting to the bat  But Flynn let drive a single to the wonderment of all And Blake the much despised tore the cover off the ball And when the dust had lifted and men saw what had occurred There was Jimmy safe at second and Flynn ahugging third   Then from five thousand throats and more there rose a lusty yell It rumbled through the valley it rattled in the dell It pounded on the mountain and recoiled upon the flat For Casey mighty Casey was advancing to the bat   There was ease in Caseys manner as he stepped into his place There was pride in Caseys bearing and a smile lit Caseys face And when responding to the cheers he lightly doffed his hat No stranger in the crowd could doubt twas Casey at the bat   Ten thousand eyes were on him as he rubbed his hands with dirt Five thousand tongues applauded when he wiped them on his shirt Then while the writhing pitcher ground the ball into his hip Defiance flashed in Caseys eye a sneer curled Caseys lip   And now the leathercovered sphere came hurtling through the air And Casey stood awatching it in haughty grandeur there Close by the sturdy batsman the ball unheeded sped That aint my style said Casey Strike one the umpire said   From the benches black with people there went up a muffled roar Like the beating of the stormwaves on a stern and distant shore Kill him Kill the umpire shouted some one on the stand And its likely theyd have killed him had not Casey raised his hand   With a smile of Christian charity great Caseys visage shone He stilled the rising tumult he bade the game go on He signaled to the pitcher and once more the dun sphere flew But Casey still ignored it and the umpire said Strike two   Fraud cried the maddened thousands and echo answered Fraud But one scornful look from Casey and the audience was awed They saw his face grow stern and cold they saw his muscles strain And they knew that Casey wouldnt let that ball go by again   The sneer has fled from Caseys lip his teeth are clenched in hate He pounds with cruel violence his bat upon the plate And now the pitcher holds the ball and now he lets it go And now the air is shattered by the force of Caseys blow   Oh somewhere in this favored land the sun is shining bright The band is playing somewhere and somewhere hearts are light And somewhere men are laughing and little children shout But there is no joy in Mudvillegreat Casey has struck out \n"
          ]
        }
      ]
    }
  ]
}